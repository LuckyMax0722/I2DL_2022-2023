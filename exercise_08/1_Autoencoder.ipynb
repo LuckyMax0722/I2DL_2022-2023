{
 "cells": [
  {
   "cell_type": "markdown",
   "metadata": {
    "id": "9CALuVmNMNkM"
   },
   "source": [
    "# Autoencoder for MNIST\n",
    "In this notebook you will train an autoencoder for the MNIST dataset which is a dataset of handwritten digits. This is the last exercise where we will provide a structured skeleton. For future exercises, we will only provide the dataset, task as well as a test scenario for you to challenge yourself against your peers on our leaderboards.\n",
    "\n",
    "## What we will do:\n",
    "\n",
    "One application of autoencoders is unsupervised pretraining with unlabeled data and then finetuning the encoder with labeled data. This can increase our performance if there is only little labeled data but a lot of unlabeled data available.\n",
    "\n",
    "In this exercise you use the MNIST dataset with 60,000 images of handwritten digits, but you do not have all the labels available.\n",
    "\n",
    "You will then train our autoencoder to reproduce the unlabeled images. \n",
    "\n",
    "Then you will transfer the pretrained encoder weights and finetune a classifier on the labeled data for classifying the handwritten digits. This is called **transfer learning**."
   ]
  },
  {
   "cell_type": "code",
   "execution_count": null,
   "metadata": {
    "id": "XcU9f4APMNkT"
   },
   "outputs": [],
   "source": [
    "# For automatic file reloading as usual\n",
    "%load_ext autoreload\n",
    "%autoreload 2\n",
    "%matplotlib inline"
   ]
  },
  {
   "cell_type": "markdown",
   "metadata": {
    "id": "Xb9dFU2EMNkW"
   },
   "source": [
    "## (Optional) Mount folder in Colab\n",
    "\n",
    "Uncomment the following cell to mount your gdrive if you are using the notebook in google colab:"
   ]
  },
  {
   "cell_type": "code",
   "execution_count": null,
   "metadata": {
    "id": "TRr4E4YVMNkW"
   },
   "outputs": [],
   "source": [
    "# Use the following lines if you want to use Google Colab\n",
    "# We presume you created a folder \"i2dl\" within your main drive folder, and put the exercise there.\n",
    "# NOTE: terminate all other colab sessions that use GPU!\n",
    "# NOTE 2: Make sure the correct exercise folder (e.g exercise_08) is given.\n",
    "\n",
    "# from google.colab import drive\n",
    "# import os\n",
    "\n",
    "\"\"\"\n",
    "gdrive_path='/content/gdrive/MyDrive/i2dl/exercise_08'\n",
    "\n",
    "# This will mount your google drive under 'MyDrive'\n",
    "drive.mount('/content/gdrive', force_remount=True)\n",
    "# In order to access the files in this notebook we have to navigate to the correct folder\n",
    "os.chdir(gdrive_path)\n",
    "# Check manually if all files are present\n",
    "\"\"\""
   ]
  },
  {
   "cell_type": "markdown",
   "metadata": {
    "id": "JzDQg-kDMNkY"
   },
   "source": [
    "### Set up PyTorch environment in colab\n",
    "- (OPTIONAL) Enable GPU via Runtime --> Change runtime type --> GPU\n",
    "- Uncomment the following cell if you are using the notebook in google colab:"
   ]
  },
  {
   "cell_type": "code",
   "execution_count": null,
   "metadata": {
    "id": "pIUdsXeXMNkZ"
   },
   "outputs": [],
   "source": [
    "# Optional: install correct libraries in google colab\n",
    "# !python -m pip install torch==1.11.0+cu113 torchvision==0.12.0+cu113 torchtext==0.12.0+cu113 torchaudio==0.12.0+cu113 -f https://download.pytorch.org/whl/torch_stable.html\n",
    "# !python -m pip install tensorboard==2.8.0 > /dev/null\n",
    "# !python -m pip install pytorch-lightning==1.6.0\n"
   ]
  },
  {
   "cell_type": "markdown",
   "metadata": {
    "id": "hEDWAZ7-ZA4E"
   },
   "source": [
    "# Imports"
   ]
  },
  {
   "cell_type": "code",
   "execution_count": null,
   "metadata": {
    "id": "dJCiVLV5o9QO"
   },
   "outputs": [],
   "source": [
    "import numpy as np\n",
    "import matplotlib.pyplot as plt\n",
    "from pathlib import Path\n",
    "import os, sys\n",
    "import shutil\n",
    "import torch\n",
    "import torch.nn as nn\n",
    "from torchvision import transforms\n",
    "from exercise_code.image_folder_dataset import ImageFolderDataset\n",
    "from torch.utils.tensorboard import SummaryWriter\n",
    "from time import sleep\n",
    "from tqdm import tqdm\n",
    "\n",
    "torch.manual_seed(42)"
   ]
  },
  {
   "cell_type": "markdown",
   "metadata": {
    "id": "dvaj6myXS7nN"
   },
   "source": [
    "<div class=\"alert alert-warning\">\n",
    "    <h3>Note: Google Colab</h3>\n",
    "    <p>\n",
    "In case you don't have a GPU, you can run this notebook on Google Colab where you can access a GPU for free, but, of course, you can also run this notebook on your CPU.\n",
    "         </p>\n",
    "</div>"
   ]
  },
  {
   "cell_type": "code",
   "execution_count": null,
   "metadata": {
    "id": "VWgm75NnS9hr"
   },
   "outputs": [],
   "source": [
    "device = torch.device(\"cuda\" if torch.cuda.is_available() else \"cpu\")\n",
    "print(device)"
   ]
  },
  {
   "cell_type": "markdown",
   "metadata": {
    "id": "Pm_rTAPnpsUo"
   },
   "source": [
    "## Setup TensorBoard\n",
    "In exercise 07 you've already learned how to use TensorBoard. Let's use it again to make the debugging of our network and training process more convenient! Throughout this notebook, feel free to add further logs or visualizations to your TensorBoard!"
   ]
  },
  {
   "cell_type": "code",
   "execution_count": null,
   "metadata": {
    "id": "QbAJFyHkMNke"
   },
   "outputs": [],
   "source": [
    "# %load_ext tensorboard\n",
    "# %tensorboard --logdir lightning_logs --port 6006"
   ]
  },
  {
   "cell_type": "markdown",
   "metadata": {
    "id": "t-Yt2KRiMNkf"
   },
   "source": [
    "# 1. The MNIST Dataset\n",
    "\n",
    "First, you download the dataset. MNIST is a dataset of 60,000 images depicting handwritten digits. However, as with most datasets, labeling is a costly process and therefore we are left in a pickle.\n",
    "\n",
    "A good starting point is to label a small subset of your images. You either do this yourself but in this instance we consider the case where you hired another student to do it for you. After writing a labeling tool and some time, you are provided with 300 labeled images of which 100 will be used for training, 100 for validation, and 100 for testing. A problematic small number...\n",
    "\n",
    "Feel free to define some transforms now or later (you can also pass without any transforms).\n",
    "\n",
    "**Note**: We do **NOT** apply any transformations to test set at the time of final evaluation on the server."
   ]
  },
  {
   "cell_type": "code",
   "execution_count": 1,
   "metadata": {
    "id": "U5_eopjbMNkf",
    "pycharm": {
     "name": "#%%\n"
    }
   },
   "outputs": [
    {
     "name": "stdout",
     "output_type": "stream",
     "text": [
      "cuda\n",
      "Found dataset folder. Skipped downloading. If you face issues, please re-download the dataset using\n",
      "'--force_download=True'\n",
      "https://i2dl.vc.in.tum.de/static/data/mnist.zip\n",
      "Found dataset folder. Skipped downloading. If you face issues, please re-download the dataset using\n",
      "'--force_download=True'\n",
      "https://i2dl.vc.in.tum.de/static/data/mnist.zip\n",
      "Found dataset folder. Skipped downloading. If you face issues, please re-download the dataset using\n",
      "'--force_download=True'\n",
      "https://i2dl.vc.in.tum.de/static/data/mnist.zip\n",
      "Found dataset folder. Skipped downloading. If you face issues, please re-download the dataset using\n",
      "'--force_download=True'\n",
      "https://i2dl.vc.in.tum.de/static/data/mnist.zip\n",
      "Found dataset folder. Skipped downloading. If you face issues, please re-download the dataset using\n",
      "'--force_download=True'\n",
      "https://i2dl.vc.in.tum.de/static/data/mnist.zip\n",
      "10800\n",
      "10800\n",
      "2109600\n"
     ]
    }
   ],
   "source": [
    "# For automatic file reloading as usual\n",
    "%load_ext autoreload\n",
    "%autoreload 2\n",
    "%matplotlib inline\n",
    "\n",
    "import numpy as np\n",
    "import matplotlib.pyplot as plt\n",
    "from pathlib import Path\n",
    "import os, sys\n",
    "import shutil\n",
    "import torch\n",
    "import torch.nn as nn\n",
    "from torchvision import transforms\n",
    "from exercise_code.image_folder_dataset import ImageFolderDataset\n",
    "from torch.utils.tensorboard import SummaryWriter\n",
    "from time import sleep\n",
    "from tqdm import tqdm\n",
    "\n",
    "torch.manual_seed(42)\n",
    "\n",
    "device = torch.device(\"cuda\" if torch.cuda.is_available() else \"cpu\")\n",
    "print(device)\n",
    "\n",
    "import torchvision.transforms.functional as tf\n",
    "\n",
    "transform = transforms.Compose([])\n",
    "########################################################################\n",
    "# TODO: Feel free to define transforms                                 #\n",
    "########################################################################\n",
    "\n",
    "transform = None\n",
    "pass\n",
    "\n",
    "########################################################################\n",
    "#                           END OF YOUR CODE                           #\n",
    "########################################################################\n",
    "\n",
    "i2dl_exercises_path = os.path.dirname(os.path.abspath(os.getcwd()))\n",
    "mnist_root = os.path.join(i2dl_exercises_path, \"datasets\", \"mnist\")\n",
    "\n",
    "train_100_dataset = ImageFolderDataset(root=mnist_root,images='train_images.pt',labels='train_labels.pt',force_download=False,verbose=True,transform=transform)\n",
    "val_100_dataset = ImageFolderDataset(root=mnist_root,images='val_images.pt',labels='val_labels.pt',force_download=False,verbose=True,transform=transform)\n",
    "test_100_dataset = ImageFolderDataset(root=mnist_root,images='test_images.pt',labels='test_labels.pt',force_download=False,verbose=True,transform=transform)\n",
    "\n",
    "\n",
    "#向训练集添加验证集和测试集\n",
    "train_100_dataset.images=torch.cat((train_100_dataset.images,val_100_dataset.images),dim=0)\n",
    "train_100_dataset.labels=torch.cat((train_100_dataset.labels,val_100_dataset.labels),dim=0)\n",
    "train_100_dataset.images=torch.cat((train_100_dataset.images,test_100_dataset.images),dim=0)\n",
    "train_100_dataset.labels=torch.cat((train_100_dataset.labels,test_100_dataset.labels),dim=0)\n",
    "\n",
    "#拷贝创建新的张量数据组\n",
    "train_Rotation_10_images = train_100_dataset.images.clone()\n",
    "train_Rotation_10_labels = train_100_dataset.labels.clone()\n",
    "train_Rotation_m10_images = train_100_dataset.images.clone()\n",
    "train_Rotation_m10_labels = train_100_dataset.labels.clone()\n",
    "train_Rotation_20_images = train_100_dataset.images.clone()\n",
    "train_Rotation_20_labels = train_100_dataset.labels.clone()\n",
    "train_Rotation_m20_images = train_100_dataset.images.clone()\n",
    "train_Rotation_m20_labels = train_100_dataset.labels.clone()\n",
    "train_Rotation_30_images = train_100_dataset.images.clone()\n",
    "train_Rotation_30_labels = train_100_dataset.labels.clone()\n",
    "train_Rotation_m30_images = train_100_dataset.images.clone()\n",
    "train_Rotation_m30_labels = train_100_dataset.labels.clone()\n",
    "train_Rotation_40_images = train_100_dataset.images.clone()\n",
    "train_Rotation_40_labels = train_100_dataset.labels.clone()\n",
    "train_Rotation_m40_images = train_100_dataset.images.clone()\n",
    "train_Rotation_m40_labels = train_100_dataset.labels.clone()\n",
    "\n",
    "#旋转10度\n",
    "for i in range(0,len(train_Rotation_10_images)):\n",
    "    train_Rotation_10_images[i] = tf.rotate(train_Rotation_10_images[i],10)\n",
    "\n",
    "train_100_dataset.images = torch.cat((train_100_dataset.images, train_Rotation_10_images), 0)\n",
    "train_100_dataset.labels = torch.cat((train_100_dataset.labels, train_Rotation_10_labels), 0)\n",
    "\n",
    "del train_Rotation_10_images\n",
    "del train_Rotation_10_labels\n",
    "\n",
    "#旋转-10度\n",
    "for i in range(0,len(train_Rotation_m10_images)):\n",
    "    train_Rotation_m10_images[i] = tf.rotate(train_Rotation_m10_images[i],350)\n",
    "\n",
    "train_100_dataset.images = torch.cat((train_100_dataset.images, train_Rotation_m10_images), 0)\n",
    "train_100_dataset.labels = torch.cat((train_100_dataset.labels, train_Rotation_m10_labels), 0)\n",
    "\n",
    "del train_Rotation_m10_images\n",
    "del train_Rotation_m10_labels\n",
    "\n",
    "#旋转20度\n",
    "for i in range(0,len(train_Rotation_20_images)):\n",
    "    train_Rotation_20_images[i] = tf.rotate(train_Rotation_20_images[i],20)\n",
    "\n",
    "train_100_dataset.images = torch.cat((train_100_dataset.images, train_Rotation_20_images), 0)\n",
    "train_100_dataset.labels = torch.cat((train_100_dataset.labels, train_Rotation_20_labels), 0)\n",
    "\n",
    "del train_Rotation_20_images\n",
    "del train_Rotation_20_labels\n",
    "\n",
    "#旋转-20度\n",
    "for i in range(0,len(train_Rotation_m20_images)):\n",
    "    train_Rotation_m20_images[i] = tf.rotate(train_Rotation_m20_images[i],340)\n",
    "\n",
    "train_100_dataset.images = torch.cat((train_100_dataset.images, train_Rotation_m20_images), 0)\n",
    "train_100_dataset.labels = torch.cat((train_100_dataset.labels, train_Rotation_m20_labels), 0)\n",
    "\n",
    "del train_Rotation_m20_images\n",
    "del train_Rotation_m20_labels\n",
    "\n",
    "#旋转30度\n",
    "for i in range(0,len(train_Rotation_30_images)):\n",
    "    train_Rotation_30_images[i] = tf.rotate(train_Rotation_30_images[i],30)\n",
    "\n",
    "train_100_dataset.images = torch.cat((train_100_dataset.images, train_Rotation_30_images), 0)\n",
    "train_100_dataset.labels = torch.cat((train_100_dataset.labels, train_Rotation_30_labels), 0)\n",
    "\n",
    "del train_Rotation_30_images\n",
    "del train_Rotation_30_labels\n",
    "\n",
    "#旋转-30度\n",
    "for i in range(0,len(train_Rotation_m30_images)):\n",
    "    train_Rotation_m30_images[i] = tf.rotate(train_Rotation_m30_images[i],330)\n",
    "\n",
    "train_100_dataset.images = torch.cat((train_100_dataset.images, train_Rotation_m30_images), 0)\n",
    "train_100_dataset.labels = torch.cat((train_100_dataset.labels, train_Rotation_m30_labels), 0)\n",
    "\n",
    "del train_Rotation_m30_images\n",
    "del train_Rotation_m30_labels\n",
    "\n",
    "#旋转40度\n",
    "for i in range(0,len(train_Rotation_40_images)):\n",
    "    train_Rotation_40_images[i] = tf.rotate(train_Rotation_40_images[i],40)\n",
    "\n",
    "train_100_dataset.images = torch.cat((train_100_dataset.images, train_Rotation_40_images), 0)\n",
    "train_100_dataset.labels = torch.cat((train_100_dataset.labels, train_Rotation_40_labels), 0)\n",
    "\n",
    "del train_Rotation_40_images\n",
    "del train_Rotation_40_labels\n",
    "\n",
    "#旋转-40度\n",
    "for i in range(0,len(train_Rotation_m40_images)):\n",
    "    train_Rotation_m40_images[i] = tf.rotate(train_Rotation_m40_images[i],320)\n",
    "\n",
    "train_100_dataset.images = torch.cat((train_100_dataset.images, train_Rotation_m40_images), 0)\n",
    "train_100_dataset.labels = torch.cat((train_100_dataset.labels, train_Rotation_m40_labels), 0)\n",
    "\n",
    "del train_Rotation_m40_images\n",
    "del train_Rotation_m40_labels\n",
    "\n",
    "\n",
    "#拷贝旋转之后的张量数据组并创建新的张量数据组\n",
    "train_Shape_images = train_100_dataset.images.clone()\n",
    "train_Shape_labels = train_100_dataset.labels.clone()\n",
    "train_Gaussian_images = train_100_dataset.images.clone()\n",
    "train_Gaussian_labels = train_100_dataset.labels.clone()\n",
    "train_RandomResizedCrop_images = train_100_dataset.images.clone()\n",
    "train_RandomResizedCrop_labels = train_100_dataset.labels.clone()\n",
    "\n",
    "#锐化\n",
    "for i in range(0,len(train_Shape_images)):\n",
    "    train_Shape_images[i] = tf.adjust_sharpness(train_Shape_images[i],5)\n",
    "\n",
    "train_100_dataset.images = torch.cat((train_100_dataset.images, train_Shape_images), 0)\n",
    "train_100_dataset.labels = torch.cat((train_100_dataset.labels, train_Shape_labels), 0)\n",
    "\n",
    "del train_Shape_images\n",
    "del train_Shape_labels\n",
    "\n",
    "#高斯模糊\n",
    "for i in range(0,len(train_Gaussian_images)):\n",
    "    train_Gaussian_images[i] = tf.gaussian_blur(train_Gaussian_images[i],1)\n",
    "\n",
    "train_100_dataset.images = torch.cat((train_100_dataset.images, train_Gaussian_images), 0)\n",
    "train_100_dataset.labels = torch.cat((train_100_dataset.labels, train_Gaussian_labels), 0)\n",
    "\n",
    "del train_Gaussian_images\n",
    "del train_Gaussian_labels\n",
    "\n",
    "#随机裁剪\n",
    "trandsform_Resize = transforms.RandomResizedCrop(size = (28,28),scale=(0.7,0.7))\n",
    "\n",
    "for i in range(0,len(train_RandomResizedCrop_images)):\n",
    "    train_RandomResizedCrop_images[i] = trandsform_Resize(train_RandomResizedCrop_images[i])\n",
    "    \n",
    "train_100_dataset.images = torch.cat((train_100_dataset.images, train_RandomResizedCrop_images), 0)\n",
    "train_100_dataset.labels = torch.cat((train_100_dataset.labels, train_RandomResizedCrop_labels), 0)\n",
    "\n",
    "del train_RandomResizedCrop_images\n",
    "del train_RandomResizedCrop_labels\n",
    "\n",
    "# We also set up the unlabeled images which we will use later\n",
    "unlabeled_train = ImageFolderDataset(root=mnist_root,images='unlabeled_train_images.pt',force_download=False,verbose=True,transform=transform)\n",
    "unlabeled_val = ImageFolderDataset(root=mnist_root,images='unlabeled_val_images.pt',force_download=False,verbose=True,transform=transform)\n",
    "\n",
    "#拷贝创建新的张量数据组\n",
    "unlabeled_train_Rotation_10 = unlabeled_train.images.clone()\n",
    "unlabeled_train_Rotation_m10 = unlabeled_train.images.clone()\n",
    "unlabeled_train_Rotation_20 = unlabeled_train.images.clone()\n",
    "unlabeled_train_Rotation_m20 = unlabeled_train.images.clone()\n",
    "unlabeled_train_Rotation_30 = unlabeled_train.images.clone()\n",
    "unlabeled_train_Rotation_m30 = unlabeled_train.images.clone()\n",
    "unlabeled_train_Rotation_40 = unlabeled_train.images.clone()\n",
    "unlabeled_train_Rotation_m40 = unlabeled_train.images.clone()\n",
    "\n",
    "\n",
    "#旋转10度\n",
    "for i in range(0,len(unlabeled_train_Rotation_10)):\n",
    "    unlabeled_train_Rotation_10[i] = tf.rotate(unlabeled_train_Rotation_10[i],10)\n",
    "\n",
    "unlabeled_train.images = torch.cat((unlabeled_train.images, unlabeled_train_Rotation_10), 0)\n",
    "\n",
    "del unlabeled_train_Rotation_10 \n",
    "\n",
    "#旋转-10度\n",
    "for i in range(0,len(unlabeled_train_Rotation_m10)):\n",
    "    unlabeled_train_Rotation_m10[i] = tf.rotate(unlabeled_train_Rotation_m10[i],350)\n",
    "\n",
    "unlabeled_train.images = torch.cat((unlabeled_train.images, unlabeled_train_Rotation_m10), 0)\n",
    "\n",
    "del unlabeled_train_Rotation_m10\n",
    "\n",
    "#旋转20度\n",
    "for i in range(0,len(unlabeled_train_Rotation_20)):\n",
    "    unlabeled_train_Rotation_20[i] = tf.rotate(unlabeled_train_Rotation_20[i],20)\n",
    "\n",
    "unlabeled_train.images = torch.cat((unlabeled_train.images, unlabeled_train_Rotation_20), 0)\n",
    "\n",
    "del unlabeled_train_Rotation_20 \n",
    "\n",
    "#旋转-20度\n",
    "for i in range(0,len(unlabeled_train_Rotation_m20)):\n",
    "    unlabeled_train_Rotation_m20[i] = tf.rotate(unlabeled_train_Rotation_m20[i],340)\n",
    "\n",
    "unlabeled_train.images = torch.cat((unlabeled_train.images, unlabeled_train_Rotation_m20), 0)\n",
    "\n",
    "del unlabeled_train_Rotation_m20 \n",
    "\n",
    "#旋转30度\n",
    "for i in range(0,len(unlabeled_train_Rotation_30)):\n",
    "    unlabeled_train_Rotation_30[i] = tf.rotate(unlabeled_train_Rotation_30[i],30)\n",
    "\n",
    "unlabeled_train.images = torch.cat((unlabeled_train.images, unlabeled_train_Rotation_30), 0)\n",
    "\n",
    "del unlabeled_train_Rotation_30 \n",
    "\n",
    "#旋转-30度\n",
    "for i in range(0,len(unlabeled_train_Rotation_m30)):\n",
    "    unlabeled_train_Rotation_m30[i] = tf.rotate(unlabeled_train_Rotation_m30[i],330)\n",
    "\n",
    "unlabeled_train.images = torch.cat((unlabeled_train.images, unlabeled_train_Rotation_m30), 0)\n",
    "\n",
    "del unlabeled_train_Rotation_m30 \n",
    "\n",
    "#旋转40度\n",
    "for i in range(0,len(unlabeled_train_Rotation_40)):\n",
    "    unlabeled_train_Rotation_40[i] = tf.rotate(unlabeled_train_Rotation_40[i],40)\n",
    "\n",
    "unlabeled_train.images = torch.cat((unlabeled_train.images, unlabeled_train_Rotation_40), 0)\n",
    "\n",
    "del unlabeled_train_Rotation_40 \n",
    "\n",
    "#旋转-40度\n",
    "for i in range(0,len(unlabeled_train_Rotation_m40)):\n",
    "    unlabeled_train_Rotation_m40[i] = tf.rotate(unlabeled_train_Rotation_m40[i],320)\n",
    "\n",
    "unlabeled_train.images = torch.cat((unlabeled_train.images, unlabeled_train_Rotation_m40), 0)\n",
    "\n",
    "del unlabeled_train_Rotation_m40 \n",
    "\n",
    "#拷贝旋转之后的张量数据组并创建新的张量数据组\n",
    "unlabeled_train_Shape = unlabeled_train.images.clone()\n",
    "unlabeled_train_Gaussian = unlabeled_train.images.clone()\n",
    "unlabeled_train_RandomResizedCrop = unlabeled_train.images.clone()\n",
    "\n",
    "#锐化\n",
    "for i in range(0,len(unlabeled_train_Shape)):\n",
    "    unlabeled_train_Shape[i] = tf.adjust_sharpness(unlabeled_train_Shape[i],5)\n",
    "\n",
    "unlabeled_train.images = torch.cat((unlabeled_train.images, unlabeled_train_Shape), 0)\n",
    "\n",
    "del unlabeled_train_Shape \n",
    "\n",
    "#高斯模糊\n",
    "for i in range(0,len(unlabeled_train_Gaussian)):\n",
    "    unlabeled_train_Gaussian[i] = tf.gaussian_blur(unlabeled_train_Gaussian[i],1)\n",
    "\n",
    "unlabeled_train.images = torch.cat((unlabeled_train.images, unlabeled_train_Gaussian), 0)\n",
    "\n",
    "del unlabeled_train_Gaussian \n",
    "\n",
    "\n",
    "#随机裁剪\n",
    "trandsform_Resize = transforms.RandomResizedCrop(size = (28,28),scale=(0.7,0.7))\n",
    "\n",
    "for i in range(0,len(unlabeled_train_RandomResizedCrop)):\n",
    "    unlabeled_train_RandomResizedCrop[i] = trandsform_Resize(unlabeled_train_RandomResizedCrop[i])\n",
    "    \n",
    "unlabeled_train.images = torch.cat((unlabeled_train.images, unlabeled_train_RandomResizedCrop), 0)\n",
    "\n",
    "del unlabeled_train_RandomResizedCrop \n",
    "\n",
    "print(len(train_100_dataset.images))\n",
    "print(len(train_100_dataset.labels))\n",
    "print(len(unlabeled_train.images))"
   ]
  },
  {
   "cell_type": "markdown",
   "metadata": {
    "id": "zwrT1ckAMNkg"
   },
   "source": [
    "The dataset consists of tuples of 28x28 pixel PIL images and a label that is an integer from 0 to 9. \n",
    "\n",
    "Let's turn a few of the images into numpy arrays, to look at their shape and visualize them and see if the labels we paid for are correct."
   ]
  },
  {
   "cell_type": "code",
   "execution_count": 2,
   "metadata": {
    "id": "k7ct1J2CMNkh"
   },
   "outputs": [
    {
     "name": "stdout",
     "output_type": "stream",
     "text": [
      "The shape of our greyscale images:  (28, 28)\n"
     ]
    },
    {
     "data": {
      "image/png": "[encoded data removed]",
      "text/plain": [
       "<Figure size 1152x1152 with 10 Axes>"
      ]
     },
     "metadata": {
      "needs_background": "light"
     },
     "output_type": "display_data"
    }
   ],
   "source": [
    "plt.rcParams['figure.figsize'] = (16,16) # Make the figures a bit bigger\n",
    "\n",
    "indices_arr = [83, 98, 92, 99, 78, 97, 90, 95, 93, 96]\n",
    "for i, index in enumerate(indices_arr):\n",
    "    image = np.array(train_100_dataset[index][0].squeeze()) # get the image of the data sample\n",
    "    label = train_100_dataset[index][1] # get the label of the data sample\n",
    "    plt.subplot(1, 10, i + 1)\n",
    "    plt.imshow(image, cmap='gray', interpolation='none')\n",
    "    plt.title(\"Class {}\".format(label))\n",
    "    \n",
    "plt.tight_layout()\n",
    "print('The shape of our greyscale images: ', image.shape)"
   ]
  },
  {
   "cell_type": "markdown",
   "metadata": {
    "id": "V9sz_lHyqJoj"
   },
   "source": [
    "<div class=\"alert alert-warning\">\n",
    "    <h3>Note: Starting Simple</h3>\n",
    "    <p>\n",
    "Regardless of the size of our dataset, the first step we have to take is to evaluate the performance of a simple classifier. Always approach a problem with a simple approach first and go from there to see which changes are helping you.\n",
    "         </p>\n",
    "</div>\n",
    "\n",
    "# 2. A Simple Classifier\n",
    "\n",
    "In `exercise_code/models.py` we prepared all classes for you which you will finalize throughout the notebook to build an Autoencoder and an image classifier with PyTorch.\n",
    "\n",
    "![network_split](img/network_split.png)\n",
    "\n",
    "## 2.1 The Encoder\n",
    "\n",
    "Different to previous models, we are going to split up our model into two parts: the so called `encoder` and the `classifier`. The `classifier` has a static task as it will output our predictions given a one-dimensional input. The `encoder`'s task is to extract meaningful information out of our input so that the classifier can make a proper decision. Right now however, both networks will be consisting of linear layers coupled with auxiliary ones and therefore won't be too different in their design. This split-up will be relevant later, e.g., by using convolutional layers which are introduced in the lecture. We are going to set up the `encoder` now. \n",
    "\n",
    "Think about a good network architecture. You're completely free here and can come up with any network you like! (\\*)\n",
    "\n",
    "Have a look at the documentation of `torch.nn` at https://pytorch.org/docs/stable/nn.html to learn how to use this module to build your network!\n",
    "\n",
    "Then implement your architecture: initialize it in `__init__()` and assign it to `self.model`. This is particularly easy using `nn.Sequential()` which you only have to pass the list of your layers. \n",
    "\n",
    "To make your model customizable and support parameter search, don't use hardcoded hyperparameters - instead, pass them as dictionary `hparams` (here, `n_hidden` is the number of neurons in the hidden layer) when initializing `models`.\n",
    "\n",
    "Here's an simple example:\n",
    "\n",
    "```python\n",
    "        self.model = nn.Sequential(\n",
    "            nn.Linear(input_size, self.hparams[\"n_hidden\"]),\n",
    "            nn.ReLU(),            \n",
    "            nn.Linear(self.hparams[\"n_hidden\"], num_classes)\n",
    "        )\n",
    "```\n",
    "\n",
    "Have a look at the forward path in `forward(self, x)`, which is so easy that you don't need to implement it yourself.\n",
    "\n",
    "As PyTorch automatically computes the gradients, that's all we need to do! No need to manually calculate derivatives for the backward paths anymore! :)\n",
    "\n",
    "\n",
    "____\n",
    "\\* *The size of your final model must be less than 20 MB, which is approximately equivalent to 5 Mio. params. Note that this limit is quite lenient, you will probably need much less parameters!*\n",
    "\n",
    "*In order to keep things simple, you should only use fully connected layers for this task as we need to revert the encoder architecture  later on in the notebook.*\n",
    "\n",
    "<div class=\"alert alert-info\">\n",
    "    <h3>Task: Implement</h3>\n",
    "    <p>Implement the <code>Encoder</code> class initialization in <code>exercise_code/models.py</code>.\n",
    "    </p>\n",
    "</div>"
   ]
  },
  {
   "cell_type": "markdown",
   "metadata": {
    "id": "jNf7FrvwMNki"
   },
   "source": [
    "## 2.2 The Classifier\n",
    "\n",
    "Now we are implementing our classifier. It will use the encoder network that you have defined in the above cell. By looking at `Classifier.forward`, you can see that we are simply chaining the `classifier` as well as the `encoder` together. Therefore, you have to match the input shape of the classifier to the output shape of your encoder implemented above. \n",
    "\n",
    "<div class=\"alert alert-info\">\n",
    "    <h3>Task: Implement</h3>\n",
    "    <p>1. Implement the <code>Classifier</code> class network initialization in <code>exercise_code/models.py</code>.\n",
    "    </p>\n",
    "    <p>2. Define in the next cell your hyperparameters in a dictionary called 'hparams'.\n",
    "    </p>\n",
    "</div>"
   ]
  },
  {
   "cell_type": "code",
   "execution_count": 8,
   "metadata": {
    "id": "AawbvD1rMNkj"
   },
   "outputs": [],
   "source": [
    "hparams = {}\n",
    "########################################################################\n",
    "# TODO: Define your hyper parameters here!                             #\n",
    "########################################################################\n",
    "\n",
    "hparams = {\n",
    "    \"num_classes\": 10,\n",
    "    \"batch_size\": 500,\n",
    "    \"nn_encoder_Layer1\": 1024,\n",
    "    \"nn_encoder_Layer2\": 512,\n",
    "    \"nn_encoder_Layer3\": 256,\n",
    "    \"nn_encoder_Layer4\": 128,\n",
    "    \"nn_encoder_Layer5\": 64,\n",
    "    \"nn_Classifier_Layer1\": 64,\n",
    "    \"learning_rate\" : 1e-4\n",
    "}\n",
    "\n",
    "########################################################################\n",
    "#                           END OF YOUR CODE                           #\n",
    "########################################################################"
   ]
  },
  {
   "cell_type": "markdown",
   "metadata": {
    "id": "bOYbUg8lAmgU"
   },
   "source": [
    "\n",
    "## 2.3 Optimizer\n",
    "Lastly, implement the function `set_optimizer` to define your optimizer. Here the documentation of `torch.optim` at https://pytorch.org/docs/stable/optim.html might be helpful.\n",
    "\n",
    "<div class=\"alert alert-info\">\n",
    "    <h3>Task: Implement</h3>\n",
    "    <p>Implement the <code>set_optimizer</code> method of the <code>Classifier</code> in <code>exercise_code/models.py</code>.\n",
    "    </p>\n",
    "</div>\n"
   ]
  },
  {
   "cell_type": "markdown",
   "metadata": {
    "id": "xrUfa-a7MNkk"
   },
   "source": [
    "## 2.4 Training & Validation Step\n",
    "\n",
    "<div class=\"alert alert-success\">\n",
    "    <h3>Task: Check Code</h3>\n",
    "    <p> Have a look at the following training pipeline. We explictly write it here fully, so you could learn how it should look like, and also refrence it when in doubt.\n",
    " </p>\n",
    "</div>\n"
   ]
  },
  {
   "cell_type": "code",
   "execution_count": 9,
   "metadata": {
    "id": "NY_lLaNWMNkk"
   },
   "outputs": [],
   "source": [
    " # One of the most crucial things in deep learning is to understand the training pipeline:\n",
    " # 1. Forward()          --> The forward pass of the network, to calculate the currnent loss.\n",
    " # 2. Backward()         --> The backward pass of the network, to calculate the gradients w.r.t the loss, calculated in the previous stage.\n",
    " # 3. Optimizer_step()   --> Update the weights w.r.t thier corresponding gradients and the learnign rate.\n",
    "\n",
    "def create_tqdm_bar(iterable, desc):\n",
    "    return tqdm(enumerate(iterable),total=len(iterable), ncols=150, desc=desc, leave=False)\n",
    "\n",
    "\n",
    "def train_classifier(classifier, train_loader, val_loader, loss_func, tb_logger, epochs=10, name=\"default\"):\n",
    "    \"\"\"\n",
    "    Train the classifier for a number of epochs.\n",
    "    \"\"\"\n",
    "    optimizer = classifier.optimizer\n",
    "    training_loss = 0\n",
    "    validation_loss = 0\n",
    "    for epoch in range(epochs):\n",
    "        \n",
    "        # Training stage, where we want to update the parameters.\n",
    "        classifier.train()  # Set the model to training mode\n",
    "        \n",
    "        # Create a progress bar for the training loop.\n",
    "        training_loop = create_tqdm_bar(train_loader, desc=f'Training Epoch [{epoch}/{epochs}]')\n",
    "        for train_iteration, batch in training_loop:\n",
    "            optimizer.zero_grad() # Reset the gradients - VERY important! Otherwise they accumulate.\n",
    "            images, labels = batch # Get the images and labels from the batch, in the fashion we defined in the dataset and dataloader.\n",
    "            images, labels = images.to(device), labels.to(device) # Send the data to the device (GPU or CPU) - it has to be the same device as the model.\n",
    "\n",
    "            # Flatten the images to a vector. This is done because the classifier expects a vector as input.\n",
    "            # Could also be done by reshaping the images in the dataset.\n",
    "            images = images.view(images.shape[0], -1) \n",
    "\n",
    "            pred = classifier(images) # Stage 1: Forward().\n",
    "            loss = loss_func(pred, labels) # Compute the loss over the predictions and the ground truth.\n",
    "            loss.backward()  # Stage 2: Backward().\n",
    "            optimizer.step() # Stage 3: Update the parameters.\n",
    "\n",
    "            if epoch == epochs - 1: # Save the last epoch's loss.\n",
    "                training_loss += loss.item()\n",
    "\n",
    "            # Update the progress bar.\n",
    "            training_loop.set_postfix(curr_train_loss = \"{:.8f}\".format(loss.item()), val_loss = \"{:.8f}\".format(validation_loss))\n",
    "\n",
    "            # Update the tensorboard logger.\n",
    "            tb_logger.add_scalar(f'classifier_{name}/train_loss', loss.item(), epoch * len(train_loader) + train_iteration)\n",
    "            sleep(0.1) # Remove this line if you want to see the progress bar faster.\n",
    "\n",
    "        # Validation stage, where we don't want to update the parameters. Pay attention to the classifier.eval() line\n",
    "        # and \"with torch.no_grad()\" wrapper.\n",
    "        classifier.eval()\n",
    "        val_loop = create_tqdm_bar(val_loader, desc=f'Validation Epoch [{epoch}/{epochs}]')\n",
    "        validation_loss = 0\n",
    "        with torch.no_grad():\n",
    "            for val_iteration, batch in val_loop:\n",
    "                images, labels = batch\n",
    "                images, labels = images.to(device), labels.to(device)\n",
    "\n",
    "                images = images.view(images.shape[0], -1) \n",
    "                pred = classifier(images)\n",
    "                loss = loss_func(pred, labels)\n",
    "                validation_loss += loss.item()\n",
    "\n",
    "                # Update the progress bar.\n",
    "                val_loop.set_postfix(curr_val_loss = \"{:.8f}\".format(loss.item()))\n",
    "\n",
    "                # Update the tensorboard logger.\n",
    "                tb_logger.add_scalar(f'classifier_{name}/val_loss', loss.item(), epoch * len(val_loader) + val_iteration)\n",
    "                sleep(0.1) # Remove this line if you want to see the progress bar faster.\n",
    "        \n",
    "        # This value is used for the progress bar of the training loop.\n",
    "        validation_loss /= len(val_loader)\n",
    "            "
   ]
  },
  {
   "cell_type": "markdown",
   "metadata": {
    "id": "KVKLlwlyMNkl"
   },
   "source": [
    "## 2.5 Fit Classification Model with Trainer\n",
    "Now it's time to train your model.\n",
    "Run the following cell to see the behold the magic of deep learning at play."
   ]
  },
  {
   "cell_type": "code",
   "execution_count": 10,
   "metadata": {
    "id": "uBGavq9cMNkl"
   },
   "outputs": [
    {
     "name": "stderr",
     "output_type": "stream",
     "text": [
      "                                                                                                                                                      \r"
     ]
    },
    {
     "name": "stdout",
     "output_type": "stream",
     "text": [
      "Finished training!\n",
      "How did we do? Let's check the accuracy of the defaut classifier on the training and validation sets:\n",
      "Training Acc: 11.324074074074074%\n",
      "Validation Acc: 14.000000000000002%\n"
     ]
    }
   ],
   "source": [
    "from exercise_code.models import Classifier\n",
    "from exercise_code.models import Encoder\n",
    "\n",
    "# Create the encoder and the classifier.\n",
    "encoder = Encoder(hparams).to(device)\n",
    "classifier = Classifier(hparams, encoder).to(device)\n",
    "\n",
    "# Creat a tensorboard logger.\n",
    "# NOTE: In order to see the logs, run the following command in the terminal: tensorboard --logdir=./\n",
    "# Also, in order to reset the logs, delete the logs folder MANUALLY.\n",
    "\n",
    "path = os.path.join('logs', 'cls_logs')\n",
    "num_of_runs = len(os.listdir(path)) if os.path.exists(path) else 0\n",
    "path = os.path.join(path, f'run_{num_of_runs + 1}')\n",
    "\n",
    "tb_logger = SummaryWriter(path)\n",
    "\n",
    "# Train the classifier.\n",
    "labled_train_loader = torch.utils.data.DataLoader(train_100_dataset, batch_size=hparams['batch_size'], shuffle=True)\n",
    "labled_val_loader = torch.utils.data.DataLoader(val_100_dataset, batch_size=hparams['batch_size'], shuffle=False)\n",
    "\n",
    "epochs = hparams.get('epochs', 15)\n",
    "loss_func = nn.CrossEntropyLoss() # The loss function we use for classification.\n",
    "train_classifier(classifier, labled_train_loader, labled_val_loader, loss_func, tb_logger, epochs=epochs, name=\"Default\")\n",
    "\n",
    "print(\"Finished training!\")\n",
    "print(\"How did we do? Let's check the accuracy of the defaut classifier on the training and validation sets:\")\n",
    "print(f\"Training Acc: {classifier.getAcc(labled_train_loader)[1] * 100}%\")\n",
    "print(f\"Validation Acc: {classifier.getAcc(labled_val_loader)[1] * 100}%\")"
   ]
  },
  {
   "cell_type": "markdown",
   "metadata": {
    "id": "i16vmHZXMNkm",
    "pycharm": {
     "name": "#%% md\n"
    }
   },
   "source": [
    "# 3. Autoencoder\n",
    "\n",
    "One hundred images as training data are not much. How could we improve our performance with limited data? We have no money left to pay our student for more labels, and labeling the data ourselves is out of question. A good idea would be to do data augmentation to get the most out of our few labeled instances, but here we provide another way to solve this problem: we will use our large amount of unlabeled data to do unsupervised pretraining with an autoencoder, and then transfer the weights of our encoder to our classifier.\n",
    "\n",
    "For each image input, the autoencoder just tries to reproduce the same image as output. The difficulty behind is that the autoencoder has to go through a low dimensional bottleneck, which we call the **latent space**.\n",
    "In other words, the autoencoder should learn to represent all the input information in the low dimensional latent space; it learns to compress the input distribution.\n",
    "To make our model learn to reproduce the input, we use the mean squared error between our input pixels and the\n",
    "output pixels as the loss function. For this loss we do not need any labels!\n",
    "\n",
    "![autoencoder](img/autoencoder.png)\n",
    "\n",
    "After this, our encoder has learned to extract meaningful information from the inputs. We can then transfer its weights\n",
    "to a classifier architecture and finetune it with our labeled data, i.e., instead of initializing our encoder randomly we are re-using the weights of our trained encoder from our autoencoder network. This process is called **transfer learning**.\n",
    "\n",
    "![autoencoder_pretrained](img/pretrained.png)\n",
    "\n",
    "## 3.1 Decoder\n",
    "\n",
    "Before we can train our autoencoder, you have to initialize the your `decoder` architecture. The simplest way is to mirror your encoder architecture which ensure that the `latent space` output of our `encoder` is correctly transformed to our input shape.\n",
    "\n",
    "<div class=\"alert alert-info\">\n",
    "    <h3>Task: Implement</h3>\n",
    "    <p>Implement the <code>Decoder</code> and <code>Autoencoder</code> class initialization in <code>exercise_code/models.py</code>.</p>\n",
    "    <p>Implemet <code>training_step</code> and <code>validation_step</code> of the autoencoder, following the pipeline we've shown you in train_classifier().</p>\n",
    "    <p>Note the differences between the classificaiton task, and now the regression task!</p>\n",
    "\n",
    "\n",
    "</div>\n",
    "\n",
    "## 3.2 Autoencoder Training\n",
    "\n",
    "Now, we can train the full autoencoder consisting of both en- and decoder."
   ]
  },
  {
   "cell_type": "code",
   "execution_count": 11,
   "metadata": {
    "id": "xqqdoLDgMNkm"
   },
   "outputs": [],
   "source": [
    "from exercise_code.models import Autoencoder, Encoder, Decoder\n",
    "\n",
    "########################################################################\n",
    "# TODO: Define your hyperparameters here!                              #\n",
    "# Hint: use a large batch_size                                         #\n",
    "########################################################################\n",
    "\n",
    "hparams = {\n",
    "    \"num_classes\": 10,\n",
    "    \"batch_size\": 5000,\n",
    "    \"nn_encoder_Layer1\": 1024,\n",
    "    \"nn_encoder_Layer2\": 512,\n",
    "    \"nn_encoder_Layer3\": 256,\n",
    "    \"nn_encoder_Layer4\": 128,\n",
    "    \"nn_encoder_Layer5\": 64,\n",
    "    \"nn_Classifier_Layer1\": 64,\n",
    "    \"learning_rate\" : 1e-4\n",
    "}\n",
    "\n",
    "########################################################################\n",
    "#                           END OF YOUR CODE                           #\n",
    "########################################################################\n",
    "encoder_pretrained = Encoder(hparams).to(device)\n",
    "decoder = Decoder(hparams).to(device)\n",
    "autoencoder = Autoencoder(hparams, encoder_pretrained, decoder).to(device)"
   ]
  },
  {
   "cell_type": "markdown",
   "metadata": {
    "id": "uRuIIm8YMNkn"
   },
   "source": [
    "Some tests to check whether we'll accept your model."
   ]
  },
  {
   "cell_type": "code",
   "execution_count": 12,
   "metadata": {
    "id": "SoAaC-NqMNkn"
   },
   "outputs": [
    {
     "name": "stdout",
     "output_type": "stream",
     "text": [
      "FYI: Your model has 3.006 mio. params.\n",
      "Model accepted!\n"
     ]
    }
   ],
   "source": [
    "from exercise_code.Util import printModelInfo, load_model\n",
    "_ = printModelInfo(autoencoder)"
   ]
  },
  {
   "cell_type": "markdown",
   "metadata": {
    "id": "plQwnphtqggl"
   },
   "source": [
    "After implementing the relevant functions - read the following code, and then run it.\n",
    "Keep in mind that an epoch here will take much longer since\n",
    "we are iterating through 5,8600 images instead of just 100.\n",
    "\n",
    "For speed, colab is indeed recommended. "
   ]
  },
  {
   "cell_type": "code",
   "execution_count": 13,
   "metadata": {
    "id": "_uuzXMq6zjbb",
    "tags": []
   },
   "outputs": [
    {
     "name": "stderr",
     "output_type": "stream",
     "text": [
      "                                                                                                                                                      "
     ]
    },
    {
     "name": "stdout",
     "output_type": "stream",
     "text": [
      "Finished training!\n"
     ]
    },
    {
     "name": "stderr",
     "output_type": "stream",
     "text": [
      "\r"
     ]
    }
   ],
   "source": [
    "encoder_pretrained = Encoder(hparams).to(device)\n",
    "decoder = Decoder(hparams).to(device)\n",
    "autoencoder = Autoencoder(hparams, encoder_pretrained, decoder).to(device)\n",
    "\n",
    "def train_model(model, train_loader, val_loader, loss_func, tb_logger, epochs=10, name='Autoencoder'):\n",
    "    \n",
    "    optimizer = model.optimizer\n",
    "    scheduler = torch.optim.lr_scheduler.StepLR(optimizer, step_size=epochs * len(train_loader) / 5, gamma=0.7)\n",
    "    validation_loss = 0\n",
    "    for epoch in range(epochs):\n",
    "        \n",
    "        # Train\n",
    "        training_loop = create_tqdm_bar(train_loader, desc=f'Training Epoch [{epoch}/{epochs}]')\n",
    "        for train_iteration, batch in training_loop:\n",
    "            \n",
    "            loss = model.training_step(batch, loss_func) # You need to implement this function.\n",
    "            scheduler.step()\n",
    "\n",
    "            # Update the progress bar.\n",
    "            training_loop.set_postfix(curr_train_loss = \"{:.8f}\".format(loss.item()), val_loss = \"{:.8f}\".format(validation_loss))\n",
    "\n",
    "            # Update the tensorboard logger.\n",
    "            tb_logger.add_scalar(f'{name}/train_loss', loss.item(), epoch * len(train_loader) + train_iteration)\n",
    "\n",
    "        # Validation\n",
    "        val_loop = create_tqdm_bar(val_loader, desc=f'Validation Epoch [{epoch}/{epochs}]')\n",
    "        validation_loss = 0\n",
    "        with torch.no_grad():\n",
    "            for val_iteration, batch in val_loop:\n",
    "                loss = model.validation_step(batch, loss_func) # You need to implement this function.\n",
    "                validation_loss += loss.item()\n",
    "\n",
    "                # Update the progress bar.\n",
    "                val_loop.set_postfix(curr_val_loss = \"{:.8f}\".format(loss.item()))\n",
    "\n",
    "                # Update the tensorboard logger.\n",
    "                tb_logger.add_scalar(f'{name}/val_loss', loss.item(), epoch * len(val_loader) + val_iteration)\n",
    "\n",
    "        # This value is for the progress bar of the training loop.\n",
    "        validation_loss /= len(val_loader)\n",
    "\n",
    "# Creat a tensorboard logger.\n",
    "# NOTE: In order to see the logs, run the following command in the terminal: tensorboard --logdir=./\n",
    "# Also, in order to reset the logs, delete the logs folder MANUALLY.\n",
    "\n",
    "path = os.path.join('logs', 'ae_logs')\n",
    "num_of_runs = len(os.listdir(path)) if os.path.exists(path) else 0\n",
    "path = os.path.join(path, f'run_{num_of_runs + 1}')\n",
    "tb_logger = SummaryWriter(path)\n",
    "\n",
    "# Train the classifier.\n",
    "unlabled_train_loader = torch.utils.data.DataLoader(unlabeled_train, batch_size=hparams['batch_size'], shuffle=True)\n",
    "unlabled_val_loader = torch.utils.data.DataLoader(unlabeled_val, batch_size=hparams['batch_size'], shuffle=False)\n",
    "\n",
    "epochs = hparams.get('epochs', 50)\n",
    "loss_func = nn.MSELoss() # The loss function we use for regression (Could also be nn.L1Loss()).\n",
    "train_model(autoencoder, unlabled_train_loader, unlabled_val_loader, loss_func, tb_logger, epochs=epochs, name='Autoencoder')\n",
    "\n",
    "print(\"Finished training!\")"
   ]
  },
  {
   "cell_type": "markdown",
   "metadata": {
    "id": "vdgiYWy4MNkq"
   },
   "source": [
    "Once trained, let's have a look at the reconstructed validation images (If you have not already looked at them in TensorBoard)."
   ]
  },
  {
   "cell_type": "code",
   "execution_count": 14,
   "metadata": {
    "id": "a991mKcyMNkq"
   },
   "outputs": [
    {
     "data": {
      "image/png": "[encoded data removed]",
      "text/plain": [
       "<Figure size 1152x1152 with 64 Axes>"
      ]
     },
     "metadata": {
      "needs_background": "light"
     },
     "output_type": "display_data"
    }
   ],
   "source": [
    "reconstructions = autoencoder.getReconstructions(unlabled_val_loader)\n",
    "for i in range(64):\n",
    "    plt.subplot(8,8,i+1)\n",
    "    plt.axis('off')\n",
    "    plt.imshow(reconstructions[i], cmap='gray', interpolation='none')\n",
    "    \n",
    "plt.tight_layout()"
   ]
  },
  {
   "cell_type": "markdown",
   "metadata": {
    "id": "R2hrP5b1MNkr"
   },
   "source": [
    "# 4. Transfer Learning\n",
    "\n",
    "## 4.1 The pretrained Classifier\n",
    "\n",
    "Now we initialize another classifier but this time with the pretrained encoder."
   ]
  },
  {
   "cell_type": "code",
   "execution_count": 15,
   "metadata": {
    "id": "OELYQAUmMNkr"
   },
   "outputs": [],
   "source": [
    "from exercise_code.models import Classifier\n",
    "from copy import deepcopy\n",
    "\n",
    "hparams = {}\n",
    "########################################################################\n",
    "# TODO: Define your hyper parameters here!                             #\n",
    "########################################################################\n",
    "\n",
    "hparams = {\n",
    "    \"num_classes\": 10,\n",
    "    \"batch_size\": 50,\n",
    "    \"nn_encoder_Layer1\": 1024,\n",
    "    \"nn_encoder_Layer2\": 512,\n",
    "    \"nn_encoder_Layer3\": 256,\n",
    "    \"nn_encoder_Layer4\": 128,\n",
    "    \"nn_encoder_Layer5\": 64,\n",
    "    \"nn_Classifier_Layer1\": 64,\n",
    "    \"learning_rate\" : 1e-4\n",
    "}\n",
    "\n",
    "########################################################################\n",
    "#                           END OF YOUR CODE                           #\n",
    "########################################################################\n",
    "\n",
    "encoder_pretrained_copy = deepcopy(encoder_pretrained)\n",
    "classifier_pretrained = Classifier(hparams, encoder_pretrained_copy).to(device)"
   ]
  },
  {
   "cell_type": "markdown",
   "metadata": {
    "id": "R8FUtih6MNks"
   },
   "source": [
    "Now specify another trainer that we will use the pretrained classifier to compare its performance with\n",
    "the classifier we trained on only the labeled data. You might need to optimize the parameters defined above in order to achieve a reasonable result."
   ]
  },
  {
   "cell_type": "code",
   "execution_count": 16,
   "metadata": {
    "id": "Mx_euorWMNks"
   },
   "outputs": [
    {
     "name": "stderr",
     "output_type": "stream",
     "text": [
      "                                                                                                                                                      "
     ]
    },
    {
     "name": "stdout",
     "output_type": "stream",
     "text": [
      "Finished training!\n"
     ]
    },
    {
     "name": "stderr",
     "output_type": "stream",
     "text": [
      "\r"
     ]
    }
   ],
   "source": [
    "\n",
    "# Creat a tensorboard logger.\n",
    "# NOTE: In order to see the logs, run the following command in the terminal: tensorboard --logdir=./\n",
    "# Also, in order to reset the logs, delete the logs folder MANUALLY.\n",
    "# Pay attention that if you run this cell mutltiple times, the pretrained_encoder\n",
    "# is not reset, and will keep training from where it stopped. Thus, it could overfit.\n",
    "\n",
    "path = os.path.join('logs', 'pretrained_cls_logs')\n",
    "num_of_runs = len(os.listdir(path)) if os.path.exists(path) else 0\n",
    "path = os.path.join(path, f'run_{num_of_runs + 1}')\n",
    "tb_logger = SummaryWriter(path)\n",
    "\n",
    "batch_size = hparams.get('batch_size', 50)\n",
    "labled_train_loader = torch.utils.data.DataLoader(train_100_dataset, batch_size=batch_size, shuffle=True)\n",
    "labled_val_loader = torch.utils.data.DataLoader(val_100_dataset, batch_size=batch_size, shuffle=False)\n",
    "\n",
    "epochs = hparams.get('epochs', 75)\n",
    "loss_func = nn.CrossEntropyLoss() # The loss function we use for classification.\n",
    "train_classifier(classifier_pretrained, labled_train_loader, labled_val_loader, loss_func, tb_logger, epochs=epochs, name='Pretrained')\n",
    "\n",
    "print(\"Finished training!\") "
   ]
  },
  {
   "cell_type": "markdown",
   "metadata": {
    "id": "H-pm1MY_MNks"
   },
   "source": [
    "Let's have a look at the validation accuracy of the two different classifiers and compare them. And don't forget that you can also monitor your training in TensorBoard.\n",
    "\n",
    "We will only look at the test accuracy and compare our two classifiers with respect to that in the very end."
   ]
  },
  {
   "cell_type": "code",
   "execution_count": 17,
   "metadata": {
    "id": "-e5Bd9KLMNkt"
   },
   "outputs": [
    {
     "name": "stdout",
     "output_type": "stream",
     "text": [
      "Validation accuracy when training from scratch: 14.000000000000002%\n",
      "Validation accuracy with pretraining: 85.0%\n"
     ]
    }
   ],
   "source": [
    "print(\"Validation accuracy when training from scratch: {}%\".format(classifier.getAcc(labled_val_loader)[1]*100))\n",
    "print(\"Validation accuracy with pretraining: {}%\".format(classifier_pretrained.getAcc(labled_val_loader)[1]*100))"
   ]
  },
  {
   "cell_type": "markdown",
   "metadata": {
    "id": "zAp2OTyf4_5b"
   },
   "source": [
    "Now that everything is working, feel free to play around with different architectures. As you've seen, it's really easy to define your model or do changes there.\n",
    "\n",
    "To pass this submission, you'll need an accuracy of **55%**."
   ]
  },
  {
   "cell_type": "markdown",
   "metadata": {
    "id": "OmEYmRT-5S-e"
   },
   "source": [
    "# Save your model & Report Test Accuracy\n",
    "\n",
    "When you've done with your **hyperparameter tuning**, have achieved **at least 55% validation accuracy** and are happy with your final model, you can save it here.\n",
    "\n",
    "Before that, please check again whether the number of parameters is below 5 Mio and the file size is below 20 MB.\n",
    "\n",
    "When your final model is saved, we'll lastly report the test accuracy."
   ]
  },
  {
   "cell_type": "code",
   "execution_count": 18,
   "metadata": {
    "id": "S69ETKxD5TcE"
   },
   "outputs": [
    {
     "name": "stdout",
     "output_type": "stream",
     "text": [
      "Test accuracy when training from scratch: 9.0%\n",
      "\n",
      "Now to the pretrained classifier:\n",
      "Validation-Accuracy: 85.0%\n",
      "FYI: Your model has 1.504 mio. params.\n",
      "Great! Your model size is less than 20 MB and will be accepted :)\n",
      "Your model has been saved and is ready to be submitted. NOW, let's check the test-accuracy.\n",
      "Test-Accuracy: 91.0%\n"
     ]
    }
   ],
   "source": [
    "from exercise_code.Util import test_and_save\n",
    "test_dl = torch.utils.data.DataLoader(test_100_dataset, batch_size=4, shuffle=False)\n",
    "print(\"Test accuracy when training from scratch: {}%\".format(classifier.getAcc(test_dl)[1]*100))\n",
    "print('\\nNow to the pretrained classifier:')\n",
    "test_and_save(classifier_pretrained, labled_val_loader, test_dl)"
   ]
  },
  {
   "cell_type": "code",
   "execution_count": 19,
   "metadata": {
    "id": "enZCnGL6MNkt"
   },
   "outputs": [
    {
     "name": "stdout",
     "output_type": "stream",
     "text": [
      "relevant folders: ['exercise_code', 'models']\n",
      "notebooks files: ['1_Autoencoder.ipynb', 'Optional-BatchNormalization_Dropout.ipynb']\n",
      "Adding folder exercise_code\n",
      "Adding folder models\n",
      "Adding notebook 1_Autoencoder.ipynb\n",
      "Adding notebook Optional-BatchNormalization_Dropout.ipynb\n",
      "Zipping successful! Zip is stored under: C:\\Users\\jiach\\Desktop\\i2dl\\output\\exercise_08.zip\n"
     ]
    }
   ],
   "source": [
    "# Now zip the folder for upload\n",
    "from exercise_code.submit import submit_exercise\n",
    "\n",
    "submit_exercise('../output/exercise_08')"
   ]
  },
  {
   "cell_type": "markdown",
   "metadata": {
    "id": "7fuo3Tf9MNku",
    "pycharm": {
     "name": "#%% md\n"
    }
   },
   "source": [
    "Congrats! You've now finished your first autoencoder and transferred the weights to a classifier! Much easier than in plain numpy, right? But wait, to complete the exercise, submit your final model to [our submission portal](https://i2dl.dvl.in.tum.de/) - you should be already familiar with the procedure. Next, it is time to get started with some more complex neural networks and tasks in the upcoming exercises. See you next week!\n",
    "\n",
    "# Submission Goals\n",
    "\n",
    "- Goal: Successfully implement a fully connected autoencoder for MNIST with Pytorch Lightning and transfer the encoder weights to a classifier.\n",
    "\n",
    "- Passing Criteria: There are no unit tests that check specific components of your code. The only thing that's required to pass the submission, is your model to reach at least **55% accuracy** on __our__ test dataset. The submission system will show you a number between 0 and 100 which corresponds to your accuracy.\n",
    "\n",
    "- Submission start: __December 15, 2022 13.00__\n",
    "- Submission deadline : __December 21, 2022 15.59__ \n",
    "- You can make **$\\infty$** submissions until the deadline. Your __best submission__ will be considered for bonus."
   ]
  },
  {
   "cell_type": "markdown",
   "metadata": {
    "id": "Ar26mFO5MNku"
   },
   "source": [
    "# [Exercise Review](https://forms.gle/9SYivCPQZdktRDS29)\n",
    "\n",
    "We are always interested in your opinion. Now that you have finished this exercise, we would like you to give us some feedback about the time required to finish the submission and/or work through the notebooks. Please take the short time to fill out our [review form](https://forms.gle/9SYivCPQZdktRDS29) for this exercise so that we can do better next time! :)"
   ]
  }
 ],
 "metadata": {
  "accelerator": "GPU",
  "colab": {
   "provenance": []
  },
  "kernelspec": {
   "display_name": "Python 3 (ipykernel)",
   "language": "python",
   "name": "python3"
  },
  "language_info": {
   "codemirror_mode": {
    "name": "ipython",
    "version": 3
   },
   "file_extension": ".py",
   "mimetype": "text/x-python",
   "name": "python",
   "nbconvert_exporter": "python",
   "pygments_lexer": "ipython3",
   "version": "3.9.12"
  },
  "vscode": {
   "interpreter": {
    "hash": "54970da6898dad277dbf355945c2dee7f942d2a31ec1fc1455b6d4f552d07b83"
   }
  }
 },
 "nbformat": 4,
 "nbformat_minor": 1
}
